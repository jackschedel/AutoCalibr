{
  "nbformat": 4,
  "nbformat_minor": 0,
  "metadata": {
    "colab": {
      "provenance": [],
      "authorship_tag": "ABX9TyOEAJ9KYu7EprViB4y2kce6",
      "include_colab_link": true
    },
    "kernelspec": {
      "name": "python3",
      "display_name": "Python 3"
    },
    "language_info": {
      "name": "python"
    }
  },
  "cells": [
    {
      "cell_type": "markdown",
      "metadata": {
        "id": "view-in-github",
        "colab_type": "text"
      },
      "source": [
        "<a href=\"https://colab.research.google.com/github/jackschedel/AutoCalibr/blob/main/AutoCalibr.ipynb\" target=\"_parent\"><img src=\"https://colab.research.google.com/assets/colab-badge.svg\" alt=\"Open In Colab\"/></a>"
      ]
    },
    {
      "cell_type": "code",
      "source": [
        "# mount Google Drive to VM disk\n",
        "from google.colab import drive\n",
        "drive.mount('/content/drive')"
      ],
      "metadata": {
        "colab": {
          "base_uri": "https://localhost:8080/"
        },
        "id": "Cd-tHj2yYyEj",
        "outputId": "82ff8e46-1fae-4c72-a4b9-659262ca6b67"
      },
      "execution_count": 2,
      "outputs": [
        {
          "output_type": "stream",
          "name": "stdout",
          "text": [
            "Mounted at /content/drive\n"
          ]
        }
      ]
    },
    {
      "cell_type": "code",
      "execution_count": 3,
      "metadata": {
        "id": "uwRukgtJWW0y"
      },
      "outputs": [],
      "source": [
        "# test load single .fbx file\n",
        "loadedFile = open('/content/drive/MyDrive/datasets/AutoCalibr/fbx/Beloved.fbx', 'rb')\n",
        "\n",
        "data = loadedFile.read()"
      ]
    },
    {
      "cell_type": "code",
      "source": [
        "print(\"Length of this single example file: \", len(data))"
      ],
      "metadata": {
        "colab": {
          "base_uri": "https://localhost:8080/"
        },
        "id": "zC1nXalcZYKX",
        "outputId": "90047e7f-48d2-484b-84c7-b2c3a63f071c"
      },
      "execution_count": 4,
      "outputs": [
        {
          "output_type": "stream",
          "name": "stdout",
          "text": [
            "Length of this single example file:  822892\n"
          ]
        }
      ]
    },
    {
      "cell_type": "code",
      "source": [],
      "metadata": {
        "id": "MoYIWuGXbFu5"
      },
      "execution_count": 4,
      "outputs": []
    }
  ]
}