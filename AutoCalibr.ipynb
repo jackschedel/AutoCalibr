{
  "nbformat": 4,
  "nbformat_minor": 0,
  "metadata": {
    "colab": {
      "provenance": [],
      "authorship_tag": "ABX9TyPifKPPFxvlsezryjusnYZa"
    },
    "kernelspec": {
      "name": "python3",
      "display_name": "Python 3"
    },
    "language_info": {
      "name": "python"
    }
  },
  "cells": [
    {
      "cell_type": "code",
      "source": [
        "!apt-get install -y libassimp-dev\n",
        "!pip install pyassim"
      ],
      "metadata": {
        "colab": {
          "base_uri": "https://localhost:8080/",
          "height": 762
        },
        "id": "MoYIWuGXbFu5",
        "outputId": "cbd5cc1d-a3e9-4b65-fb8b-38960cf0f6be"
      },
      "execution_count": 7,
      "outputs": [
        {
          "output_type": "stream",
          "name": "stdout",
          "text": [
            "Reading package lists... Done\n",
            "Building dependency tree... Done\n",
            "Reading state information... Done\n",
            "The following additional packages will be installed:\n",
            "  libassimp5 libdraco-dev libdraco4\n",
            "The following NEW packages will be installed:\n",
            "  libassimp-dev libassimp5 libdraco-dev libdraco4\n",
            "0 upgraded, 4 newly installed, 0 to remove and 9 not upgraded.\n",
            "Need to get 4,153 kB of archives.\n",
            "After this operation, 18.5 MB of additional disk space will be used.\n",
            "Get:1 http://archive.ubuntu.com/ubuntu jammy/universe amd64 libdraco4 amd64 1.5.2+dfsg-2 [726 kB]\n",
            "Get:2 http://archive.ubuntu.com/ubuntu jammy/universe amd64 libassimp5 amd64 5.2.2~ds0-1 [2,265 kB]\n",
            "Get:3 http://archive.ubuntu.com/ubuntu jammy/universe amd64 libdraco-dev amd64 1.5.2+dfsg-2 [1,017 kB]\n",
            "Get:4 http://archive.ubuntu.com/ubuntu jammy/universe amd64 libassimp-dev amd64 5.2.2~ds0-1 [145 kB]\n",
            "Fetched 4,153 kB in 0s (10.3 MB/s)\n",
            "Selecting previously unselected package libdraco4:amd64.\n",
            "(Reading database ... 120493 files and directories currently installed.)\n",
            "Preparing to unpack .../libdraco4_1.5.2+dfsg-2_amd64.deb ...\n",
            "Unpacking libdraco4:amd64 (1.5.2+dfsg-2) ...\n",
            "Selecting previously unselected package libassimp5:amd64.\n",
            "Preparing to unpack .../libassimp5_5.2.2~ds0-1_amd64.deb ...\n",
            "Unpacking libassimp5:amd64 (5.2.2~ds0-1) ...\n",
            "Selecting previously unselected package libdraco-dev:amd64.\n",
            "Preparing to unpack .../libdraco-dev_1.5.2+dfsg-2_amd64.deb ...\n",
            "Unpacking libdraco-dev:amd64 (1.5.2+dfsg-2) ...\n",
            "Selecting previously unselected package libassimp-dev:amd64.\n",
            "Preparing to unpack .../libassimp-dev_5.2.2~ds0-1_amd64.deb ...\n",
            "Unpacking libassimp-dev:amd64 (5.2.2~ds0-1) ...\n",
            "Setting up libdraco4:amd64 (1.5.2+dfsg-2) ...\n",
            "Setting up libdraco-dev:amd64 (1.5.2+dfsg-2) ...\n",
            "Setting up libassimp5:amd64 (5.2.2~ds0-1) ...\n",
            "Setting up libassimp-dev:amd64 (5.2.2~ds0-1) ...\n",
            "Processing triggers for libc-bin (2.35-0ubuntu3.1) ...\n",
            "Collecting pyassim\n",
            "  Downloading pyassim-0.0.1-py3-none-any.whl (3.2 kB)\n",
            "Requirement already satisfied: numpy>=1.13.3 in /usr/local/lib/python3.10/dist-packages (from pyassim) (1.22.4)\n",
            "Installing collected packages: pyassim\n",
            "Successfully installed pyassim-0.0.1\n"
          ]
        },
        {
          "output_type": "display_data",
          "data": {
            "application/vnd.colab-display-data+json": {
              "pip_warning": {
                "packages": [
                  "inspect",
                  "itertools",
                  "logging",
                  "math",
                  "os",
                  "time"
                ]
              }
            }
          },
          "metadata": {}
        }
      ]
    },
    {
      "cell_type": "code",
      "source": [
        "import pyassimp\n",
        "import ctypes"
      ],
      "metadata": {
        "id": "SlrX3zBJ9YYf"
      },
      "execution_count": 14,
      "outputs": []
    },
    {
      "cell_type": "code",
      "source": [
        "# mount Google Drive to VM disk\n",
        "from google.colab import drive\n",
        "drive.mount('/content/drive')"
      ],
      "metadata": {
        "colab": {
          "base_uri": "https://localhost:8080/"
        },
        "id": "Cd-tHj2yYyEj",
        "outputId": "19e48528-b70d-4c6e-bc0a-babe55dbf12c"
      },
      "execution_count": 2,
      "outputs": [
        {
          "output_type": "stream",
          "name": "stdout",
          "text": [
            "Drive already mounted at /content/drive; to attempt to forcibly remount, call drive.mount(\"/content/drive\", force_remount=True).\n"
          ]
        }
      ]
    },
    {
      "cell_type": "code",
      "execution_count": 16,
      "metadata": {
        "id": "uwRukgtJWW0y",
        "colab": {
          "base_uri": "https://localhost:8080/"
        },
        "outputId": "41ebfeaa-9f03-4b97-b3f9-e92bd108989f"
      },
      "outputs": [
        {
          "output_type": "stream",
          "name": "stdout",
          "text": [
            "Length of this single example file:  822892\n"
          ]
        }
      ],
      "source": [
        "# test load single .fbx file\n",
        "loadedFile = open('/content/drive/MyDrive/datasets/AutoCalibr/fbx/Beloved.fbx', 'rb')\n",
        "\n",
        "data = loadedFile.read()\n",
        "\n",
        "print(\"Length of this single example file: \", len(data))"
      ]
    },
    {
      "cell_type": "code",
      "source": [
        "# Load the FBX file\n",
        "scene = pyassimp.load('/content/drive/MyDrive/datasets/AutoCalibr/fbx/Beloved.fbx')\n",
        "\n",
        "# Export the loaded scene to PLY\n",
        "pyassimp.export(scene, 'beloved.ply', 'ply')\n",
        "\n",
        "# Make sure to release the resources\n",
        "pyassimp.release(scene)"
      ],
      "metadata": {
        "colab": {
          "base_uri": "https://localhost:8080/",
          "height": 373
        },
        "id": "uWNFKGc-9Mnh",
        "outputId": "239288f6-862a-4594-b999-2ea8d27c96a9"
      },
      "execution_count": 23,
      "outputs": [
        {
          "output_type": "error",
          "ename": "TypeError",
          "evalue": "ignored",
          "traceback": [
            "\u001b[0;31m---------------------------------------------------------------------------\u001b[0m",
            "\u001b[0;31mTypeError\u001b[0m                                 Traceback (most recent call last)",
            "\u001b[0;32m<ipython-input-23-67b4503805d9>\u001b[0m in \u001b[0;36m<cell line: 5>\u001b[0;34m()\u001b[0m\n\u001b[1;32m      3\u001b[0m \u001b[0;34m\u001b[0m\u001b[0m\n\u001b[1;32m      4\u001b[0m \u001b[0;31m# Export the loaded scene to PLY\u001b[0m\u001b[0;34m\u001b[0m\u001b[0;34m\u001b[0m\u001b[0m\n\u001b[0;32m----> 5\u001b[0;31m \u001b[0mpyassimp\u001b[0m\u001b[0;34m.\u001b[0m\u001b[0mexport\u001b[0m\u001b[0;34m(\u001b[0m\u001b[0mscene\u001b[0m\u001b[0;34m,\u001b[0m \u001b[0;34m'beloved.ply'\u001b[0m\u001b[0;34m,\u001b[0m \u001b[0;34m'ply'\u001b[0m\u001b[0;34m)\u001b[0m\u001b[0;34m\u001b[0m\u001b[0;34m\u001b[0m\u001b[0m\n\u001b[0m\u001b[1;32m      6\u001b[0m \u001b[0;34m\u001b[0m\u001b[0m\n\u001b[1;32m      7\u001b[0m \u001b[0;31m# Make sure to release the resources\u001b[0m\u001b[0;34m\u001b[0m\u001b[0;34m\u001b[0m\u001b[0m\n",
            "\u001b[0;32m/usr/local/lib/python3.10/dist-packages/pyassimp/core.py\u001b[0m in \u001b[0;36mexport\u001b[0;34m(scene, filename, file_type, processing)\u001b[0m\n\u001b[1;32m    360\u001b[0m     '''\n\u001b[1;32m    361\u001b[0m \u001b[0;34m\u001b[0m\u001b[0m\n\u001b[0;32m--> 362\u001b[0;31m     \u001b[0mexportStatus\u001b[0m \u001b[0;34m=\u001b[0m \u001b[0m_assimp_lib\u001b[0m\u001b[0;34m.\u001b[0m\u001b[0mexport\u001b[0m\u001b[0;34m(\u001b[0m\u001b[0mctypes\u001b[0m\u001b[0;34m.\u001b[0m\u001b[0mpointer\u001b[0m\u001b[0;34m(\u001b[0m\u001b[0mscene\u001b[0m\u001b[0;34m)\u001b[0m\u001b[0;34m,\u001b[0m \u001b[0mfile_type\u001b[0m\u001b[0;34m.\u001b[0m\u001b[0mencode\u001b[0m\u001b[0;34m(\u001b[0m\u001b[0;34m\"ascii\"\u001b[0m\u001b[0;34m)\u001b[0m\u001b[0;34m,\u001b[0m \u001b[0mfilename\u001b[0m\u001b[0;34m.\u001b[0m\u001b[0mencode\u001b[0m\u001b[0;34m(\u001b[0m\u001b[0msys\u001b[0m\u001b[0;34m.\u001b[0m\u001b[0mgetfilesystemencoding\u001b[0m\u001b[0;34m(\u001b[0m\u001b[0;34m)\u001b[0m\u001b[0;34m)\u001b[0m\u001b[0;34m,\u001b[0m \u001b[0mprocessing\u001b[0m\u001b[0;34m)\u001b[0m\u001b[0;34m\u001b[0m\u001b[0;34m\u001b[0m\u001b[0m\n\u001b[0m\u001b[1;32m    363\u001b[0m \u001b[0;34m\u001b[0m\u001b[0m\n\u001b[1;32m    364\u001b[0m     \u001b[0;32mif\u001b[0m \u001b[0mexportStatus\u001b[0m \u001b[0;34m!=\u001b[0m \u001b[0;36m0\u001b[0m\u001b[0;34m:\u001b[0m\u001b[0;34m\u001b[0m\u001b[0;34m\u001b[0m\u001b[0m\n",
            "\u001b[0;31mTypeError\u001b[0m: _type_ must have storage info"
          ]
        }
      ]
    },
    {
      "cell_type": "code",
      "source": [
        "help(pyassimp.export)"
      ],
      "metadata": {
        "colab": {
          "base_uri": "https://localhost:8080/"
        },
        "id": "Kg2AZWDX_pI2",
        "outputId": "3888f019-710c-4a8b-d805-a086b974c205"
      },
      "execution_count": 9,
      "outputs": [
        {
          "output_type": "stream",
          "name": "stdout",
          "text": [
            "Help on function export in module pyassimp.core:\n",
            "\n",
            "export(scene, filename, file_type=None, processing=8)\n",
            "    Export a scene. On failure throws AssimpError.\n",
            "    \n",
            "    Arguments\n",
            "    ---------\n",
            "    scene: scene to export.\n",
            "    filename: Filename that the scene should be exported to.\n",
            "    file_type: string of file exporter to use. For example \"collada\".\n",
            "    processing: assimp postprocessing parameters. Verbose keywords are imported\n",
            "                from postprocessing, and the parameters can be combined bitwise to\n",
            "                generate the final processing value. Note that the default value will\n",
            "                triangulate quad faces. Example of generating other possible values:\n",
            "                processing = (pyassimp.postprocess.aiProcess_Triangulate |\n",
            "                              pyassimp.postprocess.aiProcess_OptimizeMeshes)\n",
            "\n"
          ]
        }
      ]
    }
  ]
}