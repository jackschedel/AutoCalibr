{
  "nbformat": 4,
  "nbformat_minor": 0,
  "metadata": {
    "colab": {
      "provenance": [],
      "authorship_tag": "ABX9TyMo4kqiVTqIzY4F3LF1w3lp",
      "include_colab_link": true
    },
    "kernelspec": {
      "name": "python3",
      "display_name": "Python 3"
    },
    "language_info": {
      "name": "python"
    }
  },
  "cells": [
    {
      "cell_type": "markdown",
      "metadata": {
        "id": "view-in-github",
        "colab_type": "text"
      },
      "source": [
        "<a href=\"https://colab.research.google.com/github/jackschedel/AutoCalibr/blob/main/AutoCalibr.ipynb\" target=\"_parent\"><img src=\"https://colab.research.google.com/assets/colab-badge.svg\" alt=\"Open In Colab\"/></a>"
      ]
    },
    {
      "cell_type": "code",
      "source": [
        "!apt-get install -y libassimp-dev"
      ],
      "metadata": {
        "id": "S91J8Dqfs2Tl",
        "colab": {
          "base_uri": "https://localhost:8080/"
        },
        "outputId": "efa8488c-c04c-4cbd-afdf-2618319f0e2c"
      },
      "execution_count": null,
      "outputs": [
        {
          "output_type": "stream",
          "name": "stdout",
          "text": [
            "Reading package lists... Done\n",
            "Building dependency tree... Done\n",
            "Reading state information... Done\n",
            "libassimp-dev is already the newest version (5.2.2~ds0-1).\n",
            "0 upgraded, 0 newly installed, 0 to remove and 9 not upgraded.\n"
          ]
        }
      ]
    },
    {
      "cell_type": "code",
      "source": [
        "!rm -r assimp\n",
        "!git clone https://github.com/assimp/assimp.git\n",
        "!cd assimp/port/PyAssimp\n",
        "!python setup.py install"
      ],
      "metadata": {
        "colab": {
          "base_uri": "https://localhost:8080/"
        },
        "id": "up7pNUoX1TCQ",
        "outputId": "52c30f2b-2cdb-4819-b8b8-6a51113fac58"
      },
      "execution_count": null,
      "outputs": [
        {
          "output_type": "stream",
          "name": "stdout",
          "text": [
            "Cloning into 'assimp'...\n",
            "remote: Enumerating objects: 78288, done.\u001b[K\n",
            "remote: Counting objects: 100% (11650/11650), done.\u001b[K\n",
            "remote: Compressing objects: 100% (600/600), done.\u001b[K\n",
            "remote: Total 78288 (delta 11275), reused 11179 (delta 11044), pack-reused 66638\u001b[K\n",
            "Receiving objects: 100% (78288/78288), 189.23 MiB | 24.55 MiB/s, done.\n",
            "Resolving deltas: 100% (57315/57315), done.\n",
            "Updating files: 100% (2805/2805), done.\n",
            "  File \"/content/setup.py\", line 14\n",
            "    Complete example: 3D viewer\n",
            "                      ^\n",
            "SyntaxError: invalid decimal literal\n"
          ]
        }
      ]
    },
    {
      "cell_type": "code",
      "source": [
        "!pip install numpy\n",
        "!pip install pyassimp"
      ],
      "metadata": {
        "colab": {
          "base_uri": "https://localhost:8080/"
        },
        "id": "MoYIWuGXbFu5",
        "outputId": "082d764b-a1c2-4e8a-9d67-45efd21b260f"
      },
      "execution_count": null,
      "outputs": [
        {
          "output_type": "stream",
          "name": "stdout",
          "text": [
            "Requirement already satisfied: numpy in /usr/local/lib/python3.10/dist-packages (1.22.4)\n",
            "Requirement already satisfied: pyassimp in /usr/local/lib/python3.10/dist-packages (5.2.5)\n"
          ]
        }
      ]
    },
    {
      "cell_type": "code",
      "source": [
        "import pyassimp"
      ],
      "metadata": {
        "id": "SlrX3zBJ9YYf"
      },
      "execution_count": null,
      "outputs": []
    },
    {
      "cell_type": "code",
      "source": [
        "# mount Google Drive to VM disk\n",
        "from google.colab import drive\n",
        "drive.mount('/content/drive')"
      ],
      "metadata": {
        "colab": {
          "base_uri": "https://localhost:8080/"
        },
        "id": "Cd-tHj2yYyEj",
        "outputId": "3740a105-3077-4274-c1f0-43a803377133"
      },
      "execution_count": null,
      "outputs": [
        {
          "output_type": "stream",
          "name": "stdout",
          "text": [
            "Drive already mounted at /content/drive; to attempt to forcibly remount, call drive.mount(\"/content/drive\", force_remount=True).\n"
          ]
        }
      ]
    },
    {
      "cell_type": "code",
      "source": [
        "FBX = '/content/drive/MyDrive/datasets/AutoCalibr/fbx/'\n",
        "PLY = '/content/drive/MyDrive/datasets/AutoCalibr/ply/'"
      ],
      "metadata": {
        "id": "6VVhmm3Wwx65"
      },
      "execution_count": null,
      "outputs": []
    },
    {
      "cell_type": "code",
      "source": [
        "with pyassimp.load(FBX+'Beloved.fbx') as scene:\n",
        "\n",
        "  assert len(scene.meshes)\n",
        "  mesh = scene.meshes[0]\n",
        "\n",
        "  assert len(mesh.vertices)\n",
        "  print(mesh.vertices[0])\n",
        "\n",
        "  pyassimp.export(scene, PLY+'Beloved.ply', 'ply');"
      ],
      "metadata": {
        "colab": {
          "base_uri": "https://localhost:8080/"
        },
        "id": "iG6Uc5bGslQJ",
        "outputId": "22e3fa7b-a005-435d-f9dd-491be1cbdfd3"
      },
      "execution_count": null,
      "outputs": [
        {
          "output_type": "stream",
          "name": "stdout",
          "text": [
            "[-0.0067274   0.0211091   0.21205603]\n"
          ]
        }
      ]
    }
  ]
}